{
 "cells": [
  {
   "cell_type": "code",
   "execution_count": 2,
   "metadata": {},
   "outputs": [],
   "source": [
    "import tensorflow as tf\n",
    "import keras as ks\n",
    "import random\n",
    "import numpy as np\n",
    "import gymnasium as gym\n"
   ]
  },
  {
   "cell_type": "code",
   "execution_count": 3,
   "metadata": {},
   "outputs": [],
   "source": [
    "def create_model(in_dim, out_dim):\n",
    "    model = ks.models.Sequential()\n",
    "    model.add(ks.layers.Input([1,in_dim]))\n",
    "    model.add(ks.layers.Dense(128, activation='relu'))\n",
    "    model.add(ks.layers.Dense(64, activation='relu'))\n",
    "    model.add(ks.layers.Dense(out_dim, activation='softmax'))\n",
    "    model.compile(optimizer='adam', loss='binary_crossentropy')\n",
    "    return model"
   ]
  },
  {
   "cell_type": "code",
   "execution_count": 4,
   "metadata": {},
   "outputs": [],
   "source": [
    "def eps_greedy(env, model, state, epsilon):\n",
    "    if random.uniform(0, 1) < epsilon:\n",
    "        action = env.action_space.sample()\n",
    "    else:\n",
    "        action = np.argmax(model.predict(tf.expand_dims(np.array([state]),0)))\n",
    "    return action"
   ]
  },
  {
   "cell_type": "code",
   "execution_count": 5,
   "metadata": {},
   "outputs": [],
   "source": [
    "def train(q, q_target, buffer):\n",
    "    buffer_samples = 10\n",
    "    gamma = 0.99\n",
    "    if len(buffer) >= buffer_samples:\n",
    "        samples = random.sample(buffer, buffer_samples)\n",
    "\n",
    "        for (state, action, reward, next_state) in samples:\n",
    "            x = tf.expand_dims(np.array([state]),0)\n",
    "            x_ = tf.expand_dims(np.array([next_state]),0)\n",
    "            q_values = q.predict(x, verbose=0)\n",
    "            q_values_target = q_target.predict(x_, verbose=0)\n",
    "            q_values[0][0][action] = reward + gamma * np.max(q_values_target[0])\n",
    "            q.fit(np.array([[state]]), q_values, epochs=1, verbose=0)\n"
   ]
  },
  {
   "cell_type": "code",
   "execution_count": 6,
   "metadata": {},
   "outputs": [],
   "source": [
    "def dqn(env, num_episodes=3, epsilon=0.1):\n",
    "    buffer_size = 50\n",
    "    c = 20\n",
    "    buffer = []\n",
    "    q = create_model(\n",
    "        in_dim = env.observation_space.shape[0],\n",
    "        out_dim = env.action_space.n\n",
    "    )\n",
    "    q_target = tf.keras.models.clone_model(q)\n",
    "\n",
    "    for episode in range(num_episodes):\n",
    "        state = env.reset()[0] \n",
    "        action = eps_greedy(env, q, state, epsilon)\n",
    "\n",
    "        done = False\n",
    "        count = 0\n",
    "        total_reward = 0\n",
    "        while not done:\n",
    "            next_state, reward, done, _, _ = env.step(action)\n",
    "            total_reward += reward\n",
    "            buffer.append((state, action, reward, next_state))\n",
    "            train(q, q_target, buffer)\n",
    "            if len(buffer) > buffer_size:\n",
    "                buffer.pop(0)\n",
    "            if count % c == 0:\n",
    "                q_target = tf.keras.models.clone_model(q)\n",
    "                print(\"Count = \", count, end='\\r')\n",
    "            count += 1\n",
    "\n",
    "        if episode % 1 == 0:\n",
    "            print(f\"Episode {episode}: Total Reward = {total_reward}\")\n",
    "            env.render()\n",
    "    return q\n",
    "\n"
   ]
  },
  {
   "cell_type": "code",
   "execution_count": null,
   "metadata": {},
   "outputs": [],
   "source": [
    "env = gym.make(\"Acrobot-v1\", render_mode = \"rgb_array\")\n",
    "env = gym.wrappers.record_video.RecordVideo(env, video_folder=\"./videos\", episode_trigger=lambda e: e % 50 == 0)\n",
    "with tf.device('CPU:0'):\n",
    "    q = dqn(env)\n",
    "\n",
    "env.close()\n"
   ]
  }
 ],
 "metadata": {
  "kernelspec": {
   "display_name": "centrenv",
   "language": "python",
   "name": "python3"
  },
  "language_info": {
   "codemirror_mode": {
    "name": "ipython",
    "version": 3
   },
   "file_extension": ".py",
   "mimetype": "text/x-python",
   "name": "python",
   "nbconvert_exporter": "python",
   "pygments_lexer": "ipython3",
   "version": "3.12.9"
  }
 },
 "nbformat": 4,
 "nbformat_minor": 2
}
